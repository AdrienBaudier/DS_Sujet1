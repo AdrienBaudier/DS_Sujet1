{
 "cells": [
  {
   "cell_type": "markdown",
   "metadata": {},
   "source": [
    "## **Exercice 1**"
   ]
  },
  {
   "cell_type": "markdown",
   "metadata": {},
   "source": [
    "On considère la fonction $f$ suivante :\n",
    "\n",
    "$$f(x) = 3x^2+7$$\n",
    "\n",
    "On cherche à pouvoir calculer l'image d'un nombre $x$ quelconque à l'aide du programme suivant à compléter."
   ]
  },
  {
   "cell_type": "code",
   "execution_count": null,
   "metadata": {},
   "outputs": [],
   "source": [
    "x = float(input(\"Entrer la valeur de x : \"))\n",
    "f = None\n",
    "# Compléter ci-dessous\n",
    "\n",
    "\n",
    "\n",
    "######################\n",
    "print(\"L'image de \",x,\" par la fonction f est : \",f)"
   ]
  },
  {
   "cell_type": "markdown",
   "metadata": {},
   "source": [
    "## **Exercice 2**"
   ]
  },
  {
   "cell_type": "markdown",
   "metadata": {},
   "source": [
    "La mention obtenue au bac dépend de la note :\n",
    "\n",
    "* Si la note est inférieure à 10 : *Recalé*\n",
    "* Si la note est entre 10 et 12 : *Admis*\n",
    "* Si la note est entre 12 et 14 : *Mention Assez Bien*\n",
    "* Si la note est entre 14 et 16 : *Mention Bien*\n",
    "* Si la note est au dessus de 16 : *Mention Très Bien*\n",
    "\n",
    "Compléter le programme suivant affin d'afficher la mention obtenue en fonction de la note obtenue."
   ]
  },
  {
   "cell_type": "code",
   "execution_count": null,
   "metadata": {},
   "outputs": [],
   "source": [
    "Note = int(input(\"Entrer la note obtenue au bac : \"))\n",
    "# Compléter ci-dessous\n",
    "\n",
    "\n",
    "\n"
   ]
  },
  {
   "cell_type": "markdown",
   "metadata": {},
   "source": [
    "## **Exercice 3**"
   ]
  },
  {
   "cell_type": "markdown",
   "metadata": {},
   "source": [
    "Écrire un programme qui calcule la somme des nombres **pairs** entre 1 et $n$\n",
    "\n",
    "Par exemple, pour $n = 10$, on calcule : $S = 2+4+6+8+10 = 30$"
   ]
  },
  {
   "cell_type": "code",
   "execution_count": null,
   "metadata": {},
   "outputs": [],
   "source": [
    "n = int(input(\"Entrer un nombre n : \"))\n",
    "Somme = 0\n",
    "#Compléter ci-dessous\n",
    "\n",
    "\n",
    "\n",
    "#######################\n",
    "print(\"La somme des nombres pairs entre 1 et \",n,\" est : \",Somme)"
   ]
  },
  {
   "cell_type": "markdown",
   "metadata": {},
   "source": [
    "## **Exercice 4**"
   ]
  },
  {
   "cell_type": "markdown",
   "metadata": {},
   "source": [
    "On envisage de créer une pile de feuille de papier suffisamment grande pour atteindre la Lune. On dispose pour cela d'une feuille de papier au format A4, et d'une paire ce ciseaux. On coupe la feuille en deux, puis on empile les deux morceaux, ensuite on coupe la pile en deux puis on empile les deux tas,  on coupe ensuite cette nouvelle pile en deux pour en former une plus grande ...\n",
    "\n",
    "![papier pliage](./images/papier.png)\n",
    "\n",
    "Sachant que la distance Terre-Lune est de 384 400 km et que la feuille de papier a une épaisseur de 0.1 mm, écrire un programme permettant de calculer le nombre de fois où il faudra couper la pile en deux pour atteindre la Lune.\n",
    "\n",
    "**Attention :** Pour pouvoir calculer cette valeur, il faut mettre les distances dans la même unité."
   ]
  },
  {
   "cell_type": "code",
   "execution_count": null,
   "metadata": {},
   "outputs": [],
   "source": [
    "e = 0.0001 # Epaisseur du papier en mètre\n",
    "D = 384400000 # Distance Terre-Lune en mètre\n",
    "n = 0 # Nombre de coupes\n",
    "# Compléter ci-dessous\n",
    "\n",
    "\n",
    "#######################\n",
    "print(\"Il faut couper \",n,\" fois le papier pour atteindre la Lune.\")"
   ]
  },
  {
   "cell_type": "code",
   "execution_count": null,
   "metadata": {},
   "outputs": [],
   "source": []
  }
 ],
 "metadata": {
  "kernelspec": {
   "display_name": "Python 3",
   "language": "python",
   "name": "python3"
  },
  "language_info": {
   "codemirror_mode": {
    "name": "ipython",
    "version": 3
   },
   "file_extension": ".py",
   "mimetype": "text/x-python",
   "name": "python",
   "nbconvert_exporter": "python",
   "pygments_lexer": "ipython3",
   "version": "3.7.4"
  }
 },
 "nbformat": 4,
 "nbformat_minor": 2
}
